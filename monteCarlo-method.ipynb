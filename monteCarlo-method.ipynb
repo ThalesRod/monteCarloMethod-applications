{
 "cells": [
  {
   "cell_type": "markdown",
   "metadata": {},
   "source": [
    "# Monte Carlo Method"
   ]
  },
  {
   "cell_type": "markdown",
   "metadata": {},
   "source": [
    "## 1- Calculating a Single Variable Integral numerically:"
   ]
  },
  {
   "cell_type": "markdown",
   "metadata": {},
   "source": [
    "$$ \\int_{a}^{b} f(x)dx = \\textit A_f  \\quad \\textit{(1)} $$  \n",
    "***A<sub>f</sub>*** = Area under the function  \n",
    "\n",
    "\n",
    "$$ \\frac{A_f}{A_s} = \\frac{N_c}{N_t} \\quad \\textit{(2)} $$\n",
    "\n",
    "***A<sub>s</sub>*** = Square area  \n",
    "***N<sub>c</sub>*** = Points landing the function  \n",
    "***N<sub>t</sub>*** = Total of points  \n",
    "  \n",
    "#### $$ A_f \\approx A_s \\times \\frac{N_c}{N_t} $$  "
   ]
  },
  {
   "cell_type": "markdown",
   "metadata": {},
   "source": [
    "### Implemantation:"
   ]
  },
  {
   "cell_type": "code",
   "execution_count": 4,
   "metadata": {},
   "outputs": [
    {
     "name": "stdout",
     "output_type": "stream",
     "text": [
      "Area calculated (Mean): 1.000788897320218\n",
      "Area calculated (Median): 1.000597260168349\n"
     ]
    },
    {
     "data": {
      "image/png": "[encoded data removed]",
      "text/plain": [
       "<matplotlib.figure.Figure at 0x7fb4cd20ce48>"
      ]
     },
     "metadata": {
      "needs_background": "light"
     },
     "output_type": "display_data"
    }
   ],
   "source": [
    "%matplotlib inline\n",
    "\n",
    "import random\n",
    "\n",
    "import numpy as np\n",
    "import matplotlib.pyplot as plt\n",
    "\n",
    "\n",
    "# Function to be integrated\n",
    "def function(x):\n",
    "  return np.cos(x)\n",
    "\n",
    "# Function limits\n",
    "a = 0\n",
    "b = np.pi / 2\n",
    "\n",
    "# Height of the rectangle surrounding the Function\n",
    "h = 1\n",
    "\n",
    "# Number of points\n",
    "n = 1e3\n",
    "\n",
    "areas = list()\n",
    "\n",
    "for area in range(int(1e3)):\n",
    "  # Splash points counter\n",
    "  ns = 0\n",
    "    \n",
    "  for point in range(int(n)):\n",
    "    # Point coordinates\n",
    "    xi = random.uniform(a, b) # x axis variation between the Function limits\n",
    "    yi = random.uniform(0, h) # y axis variation from 0 to rectangle height\n",
    "\n",
    "    if yi <= function(xi):\n",
    "      ns += 1\n",
    "    \n",
    "  integral = h * (b - a) * (ns / n)\n",
    "  areas = np.append(areas, integral)\n",
    "\n",
    "print(\"Area calculated (Mean): {0}\".format(areas.mean()))\n",
    "print(\"Area calculated (Median): {0}\".format(np.median(areas)))\n",
    "        \n",
    "plt.title(\"Distribution of Areas Calculated\")\n",
    "plt.xlabel(\"Areas\")\n",
    "plt.hist(areas, bins=30, ec='black')\n",
    "plt.show()"
   ]
  },
  {
   "cell_type": "markdown",
   "metadata": {},
   "source": [
    "## 2- Calculating a Double Integral numerically:"
   ]
  },
  {
   "cell_type": "markdown",
   "metadata": {},
   "source": [
    "$$ \\int_{c}^{d}\\int_{a}^{b} f(x,y)dxdy = \\textit V_f  \\quad \\textit{(1)} $$  \n",
    "***V<sub>f</sub>*** = Volume under the function  \n",
    "\n",
    "\n",
    "$$ \\frac{V_f}{V_s} = \\frac{N_c}{N_t} \\quad \\textit{(2)} $$\n",
    "\n",
    "***V<sub>s</sub>*** = Prism volume  \n",
    "***N<sub>c</sub>*** = Points landing the function  \n",
    "***N<sub>t</sub>*** = Total of points  \n",
    "  \n",
    "#### $$ V_f \\approx V_s \\times \\frac{N_c}{N_t} $$  \n"
   ]
  },
  {
   "cell_type": "markdown",
   "metadata": {},
   "source": [
    "### Implemantation:"
   ]
  },
  {
   "cell_type": "code",
   "execution_count": 6,
   "metadata": {},
   "outputs": [
    {
     "name": "stdout",
     "output_type": "stream",
     "text": [
      "Volume calculated (Mean): 115.20575\n",
      "Volume calculated (Median): 115.25\n"
     ]
    },
    {
     "data": {
      "image/png": "[encoded data removed]",
      "text/plain": [
       "<matplotlib.figure.Figure at 0x7fb4cd0dce80>"
      ]
     },
     "metadata": {
      "needs_background": "light"
     },
     "output_type": "display_data"
    }
   ],
   "source": [
    "%matplotlib inline\n",
    "from numpy import random\n",
    "import numpy as np\n",
    "import matplotlib.pyplot as plt\n",
    "\n",
    "\n",
    "def f(x, y):\n",
    "  return (x**2 + y**2)\n",
    "  \n",
    "a, b = 0, 5\n",
    "c, d = 0, 5 # integration limits\n",
    "\n",
    "h = 5\n",
    "\n",
    "n = 1e3\n",
    "\n",
    "volumes = np.array(list())\n",
    "\n",
    "for i in range(int(1e3)):\n",
    "  ns = 0\n",
    "\n",
    "  for point in range(int(n)):\n",
    "    xi = random.uniform(a, b)\n",
    "    yi = random.uniform(c, d)\n",
    "    zi = random.uniform(0, h)\n",
    "    \n",
    "    if zi <= f(xi, yi):\n",
    "      ns += 1\n",
    "    \n",
    "  volume = (b - a) * (d - c) * h * (ns/n)\n",
    "  volumes = np.append(volumes, volume)\n",
    "\n",
    "print(\"Volume calculated (Mean): {0}\".format(volumes.mean()))\n",
    "print(\"Volume calculated (Median): {0}\".format(np.median(volumes)))\n",
    "\n",
    "plt.title(\"Distribution of Volumes Calculated\")\n",
    "plt.xlabel(\"Volumes\")\n",
    "plt.hist(volumes, bins=30, ec='b')\n",
    "plt.show()"
   ]
  },
  {
   "cell_type": "markdown",
   "metadata": {},
   "source": [
    "## 3- Estimating $\\pi$ value numerically by aproximation:"
   ]
  },
  {
   "cell_type": "markdown",
   "metadata": {},
   "source": [
    "$$ \\frac{Ac}{As} = \\frac{Nc}{Nt} \\quad \\textit{(1)} $$\n",
    "\n",
    "***Ac*** = Circle area  \n",
    "***As*** = Square area  \n",
    "***Nc*** = Points landing the circle  \n",
    "***Nt*** = Total of points  \n",
    "  \n",
    "#### $$ \\pi = \\frac{Ac}{r^2} \\quad \\textit{(2)} $$  \n",
    "***r*** = Circle radius"
   ]
  },
  {
   "cell_type": "markdown",
   "metadata": {},
   "source": [
    "### Implemantation:"
   ]
  },
  {
   "cell_type": "code",
   "execution_count": 2,
   "metadata": {},
   "outputs": [
    {
     "name": "stdout",
     "output_type": "stream",
     "text": [
      "Pi constant (Numpy): 3.141592653589793\n",
      "Pi estimated (Mean): 3.144756\n",
      "Pi estimated (Median): 3.144\n"
     ]
    },
    {
     "data": {
      "image/png": "[encoded data removed]",
      "text/plain": [
       "<matplotlib.figure.Figure at 0x7fb4de70a630>"
      ]
     },
     "metadata": {
      "needs_background": "light"
     },
     "output_type": "display_data"
    }
   ],
   "source": [
    "%matplotlib inline\n",
    "\n",
    "from numpy import random\n",
    "import numpy as np\n",
    "import matplotlib.pyplot as plt\n",
    "\n",
    "r = 1 # circle radius\n",
    "\n",
    "Nt = 1e3\n",
    "\n",
    "areas = np.array(list())\n",
    "\n",
    "for i in range(int(1e3)):\n",
    "    Nc = 0\n",
    "\n",
    "    for point in range(int(Nt)):\n",
    "        xi = random.uniform(-r, r)\n",
    "        yi = random.uniform(-r, r)\n",
    "\n",
    "        if (xi**2 + yi **2) <= r**2:\n",
    "            Nc += 1\n",
    "\n",
    "    area = Nc / Nt * (2 ** 2)\n",
    "    areas = np.append(areas, area)    \n",
    "        \n",
    "pi_estimated_mean   = areas.mean() / r ** 2\n",
    "pi_estimated_median = np.median(areas) / r ** 2\n",
    "\n",
    "print(\"Pi constant (Numpy): {0}\".format(np.pi))\n",
    "print(\"Pi estimated (Mean): {0}\".format(pi_estimated_mean))\n",
    "print(\"Pi estimated (Median): {0}\".format(pi_estimated_median))\n",
    "\n",
    "plt.hist(areas, bins=30, ec='b')\n",
    "plt.xlabel(\"Areas\")\n",
    "plt.title(\"Distribution of Estimated Areas\")\n",
    "plt.show()"
   ]
  }
 ],
 "metadata": {
  "kernelspec": {
   "display_name": "Python 3",
   "language": "python",
   "name": "python3"
  },
  "language_info": {
   "codemirror_mode": {
    "name": "ipython",
    "version": 3
   },
   "file_extension": ".py",
   "mimetype": "text/x-python",
   "name": "python",
   "nbconvert_exporter": "python",
   "pygments_lexer": "ipython3",
   "version": "3.5.3"
  }
 },
 "nbformat": 4,
 "nbformat_minor": 2
}
